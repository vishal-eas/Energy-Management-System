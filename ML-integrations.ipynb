{
 "cells": [
  {
   "cell_type": "code",
   "execution_count": 1,
   "metadata": {},
   "outputs": [
    {
     "data": {
      "text/html": [
       "<div>\n",
       "<style scoped>\n",
       "    .dataframe tbody tr th:only-of-type {\n",
       "        vertical-align: middle;\n",
       "    }\n",
       "\n",
       "    .dataframe tbody tr th {\n",
       "        vertical-align: top;\n",
       "    }\n",
       "\n",
       "    .dataframe thead th {\n",
       "        text-align: right;\n",
       "    }\n",
       "</style>\n",
       "<table border=\"1\" class=\"dataframe\">\n",
       "  <thead>\n",
       "    <tr style=\"text-align: right;\">\n",
       "      <th></th>\n",
       "      <th>Time</th>\n",
       "      <th>Load</th>\n",
       "    </tr>\n",
       "  </thead>\n",
       "  <tbody>\n",
       "    <tr>\n",
       "      <th>0</th>\n",
       "      <td>0.000000</td>\n",
       "      <td>0.000000</td>\n",
       "    </tr>\n",
       "    <tr>\n",
       "      <th>1</th>\n",
       "      <td>0.020051</td>\n",
       "      <td>0.005650</td>\n",
       "    </tr>\n",
       "    <tr>\n",
       "      <th>2</th>\n",
       "      <td>0.036773</td>\n",
       "      <td>0.005650</td>\n",
       "    </tr>\n",
       "    <tr>\n",
       "      <th>3</th>\n",
       "      <td>0.056840</td>\n",
       "      <td>0.005650</td>\n",
       "    </tr>\n",
       "    <tr>\n",
       "      <th>4</th>\n",
       "      <td>0.073563</td>\n",
       "      <td>0.005650</td>\n",
       "    </tr>\n",
       "    <tr>\n",
       "      <th>...</th>\n",
       "      <td>...</td>\n",
       "      <td>...</td>\n",
       "    </tr>\n",
       "    <tr>\n",
       "      <th>137</th>\n",
       "      <td>0.943126</td>\n",
       "      <td>0.011299</td>\n",
       "    </tr>\n",
       "    <tr>\n",
       "      <th>138</th>\n",
       "      <td>0.953160</td>\n",
       "      <td>0.011299</td>\n",
       "    </tr>\n",
       "    <tr>\n",
       "      <th>139</th>\n",
       "      <td>0.969882</td>\n",
       "      <td>0.011299</td>\n",
       "    </tr>\n",
       "    <tr>\n",
       "      <th>140</th>\n",
       "      <td>0.986622</td>\n",
       "      <td>0.005650</td>\n",
       "    </tr>\n",
       "    <tr>\n",
       "      <th>141</th>\n",
       "      <td>1.000000</td>\n",
       "      <td>0.005650</td>\n",
       "    </tr>\n",
       "  </tbody>\n",
       "</table>\n",
       "<p>142 rows × 2 columns</p>\n",
       "</div>"
      ],
      "text/plain": [
       "         Time      Load\n",
       "0    0.000000  0.000000\n",
       "1    0.020051  0.005650\n",
       "2    0.036773  0.005650\n",
       "3    0.056840  0.005650\n",
       "4    0.073563  0.005650\n",
       "..        ...       ...\n",
       "137  0.943126  0.011299\n",
       "138  0.953160  0.011299\n",
       "139  0.969882  0.011299\n",
       "140  0.986622  0.005650\n",
       "141  1.000000  0.005650\n",
       "\n",
       "[142 rows x 2 columns]"
      ]
     },
     "execution_count": 1,
     "metadata": {},
     "output_type": "execute_result"
    }
   ],
   "source": [
    "import pandas as pd\n",
    "import numpy as np\n",
    "from sklearn.preprocessing import MinMaxScaler\n",
    "from sklearn.model_selection import train_test_split,GridSearchCV\n",
    "%matplotlib inline\n",
    "import matplotlib as plt\n",
    "from sklearn.svm import SVR\n",
    "from sklearn import metrics\n",
    "\n",
    "\n",
    "\n",
    "df=pd.read_excel(r'/Users/Vishal/ifp1.xlsx')\n",
    "df.columns=['Time','Load']\n",
    "scaler = MinMaxScaler()#USING SCALING TO BRING DATA TO 0 TO 1 RANGE\n",
    "df[['Time', 'Load']] = scaler.fit_transform(df[['Time', 'Load']])\n",
    "df"
   ]
  },
  {
   "cell_type": "code",
   "execution_count": 2,
   "metadata": {},
   "outputs": [],
   "source": [
    "from sklearn.model_selection import train_test_split\n",
    "x=df[['Time']]\n",
    "y=df.Load\n",
    "\n",
    "xtrain,xtest,ytrain,ytest=train_test_split(x,y,train_size=0.8)#SPLITTING THE DATA SET IN 80:20 TRAIN:TEST RATIO\n"
   ]
  },
  {
   "cell_type": "code",
   "execution_count": 3,
   "metadata": {},
   "outputs": [
    {
     "data": {
      "text/plain": [
       "GridSearchCV(cv=10, error_score=nan,\n",
       "             estimator=SVR(C=1.0, cache_size=200, coef0=0.0, degree=3,\n",
       "                           epsilon=0.1, gamma='scale', kernel='rbf',\n",
       "                           max_iter=-1, shrinking=True, tol=0.001,\n",
       "                           verbose=False),\n",
       "             iid='deprecated', n_jobs=None,\n",
       "             param_grid={'epsilon': [0.1, 0.01, 0.001, 1, 0.5, 0.005, 0.0005],\n",
       "                         'gamma': [55, 100, 1000, 1200, 1300, 1400, 1500, 1450,\n",
       "                                   1550, 1600, 1520, 1510, 1530, 1540, 1550,\n",
       "                                   1560, 1460, 1470, 1490, 1480, 1600, 1650]},\n",
       "             pre_dispatch='2*n_jobs', refit=True, return_train_score=False,\n",
       "             scoring='neg_mean_squared_error', verbose=0)"
      ]
     },
     "execution_count": 3,
     "metadata": {},
     "output_type": "execute_result"
    }
   ],
   "source": [
    "lml=SVR('rbf')# WE ARE USING RBF MODEL \n",
    "parameters={'gamma':[55,100,1000,1200,1300,1400,1500,1450,1550,1600,1520,1510,1530,1540,1550,1560,1460,1470,1490,1480,1600,1650],'epsilon':[0.1,0.01,0.001,1,0.5,0.005,0.0005]}\n",
    "#NOW USING GRIDSEARCHCV WILL FIND THE BEST HYPERPARAMETERS GAMMA AND EPSILON BY TRIAL AND ERROR\n",
    "rbf=GridSearchCV(lml,parameters,scoring='neg_mean_squared_error',cv=10)\n",
    "rbf.fit(xtrain,ytrain)"
   ]
  },
  {
   "cell_type": "code",
   "execution_count": 4,
   "metadata": {},
   "outputs": [
    {
     "name": "stdout",
     "output_type": "stream",
     "text": [
      "{'epsilon': 0.0005, 'gamma': 1000}\n"
     ]
    }
   ],
   "source": [
    "\n",
    "print(rbf.best_params_)#FINALLY AFTER RUNNING IT RETURNS THE BEST PARAMETERS AND APPLIES IT TO MODEL RBF"
   ]
  },
  {
   "cell_type": "code",
   "execution_count": 5,
   "metadata": {},
   "outputs": [
    {
     "name": "stdout",
     "output_type": "stream",
     "text": [
      "0.9970552743053541\n"
     ]
    },
    {
     "data": {
      "text/plain": [
       "<matplotlib.collections.PathCollection at 0x1a1b946f10>"
      ]
     },
     "execution_count": 5,
     "metadata": {},
     "output_type": "execute_result"
    },
    {
     "data": {
      "image/png": "[encoded data removed]",
      "text/plain": [
       "<Figure size 432x288 with 1 Axes>"
      ]
     },
     "metadata": {
      "needs_background": "light"
     },
     "output_type": "display_data"
    }
   ],
   "source": [
    "rbfp=rbf.predict(xtest)#PREDICTING THE VALUES\n",
    "print(metrics.r2_score(ytest,rbfp))# NOW SEEING WE ACHIEVE .99 R2 SCORE WHICH MEANS DATA IS VERY CLOSELY PREDICTED\n",
    "plt.pyplot.scatter(rbfp,ytest)#PLOTTING THE PREDICTED VALUES AGAINST ACTUAL VALUES WE SEE IT IS LINEAR WHICH IS EXTREMEMLY ACURRATE"
   ]
  },
  {
   "cell_type": "code",
   "execution_count": 6,
   "metadata": {},
   "outputs": [
    {
     "name": "stdout",
     "output_type": "stream",
     "text": [
      "0.010724246937907385\n",
      "0.00027873720152388367\n",
      "0.016695424568542235\n"
     ]
    },
    {
     "data": {
      "text/plain": [
       "0.9970552743053541"
      ]
     },
     "execution_count": 6,
     "metadata": {},
     "output_type": "execute_result"
    }
   ],
   "source": [
    "print(metrics.mean_absolute_error(ytest,rbfp))#absolute mean error\n",
    "print(metrics.mean_squared_error(ytest,rbfp))#mean squared error\n",
    "print(np.sqrt(metrics.mean_squared_error(ytest,rbfp)))# rmse\n",
    "(metrics.r2_score(ytest,rbfp))#R2 SCORE SHOULD BE CLOSE TO 1\n",
    "\n",
    "#WE CAN THAT THE ERRORS ARE VERY CLOSE TO 0 WHICH IS THE GOAL"
   ]
  },
  {
   "cell_type": "code",
   "execution_count": 7,
   "metadata": {},
   "outputs": [
    {
     "data": {
      "text/html": [
       "<div>\n",
       "<style scoped>\n",
       "    .dataframe tbody tr th:only-of-type {\n",
       "        vertical-align: middle;\n",
       "    }\n",
       "\n",
       "    .dataframe tbody tr th {\n",
       "        vertical-align: top;\n",
       "    }\n",
       "\n",
       "    .dataframe thead th {\n",
       "        text-align: right;\n",
       "    }\n",
       "</style>\n",
       "<table border=\"1\" class=\"dataframe\">\n",
       "  <thead>\n",
       "    <tr style=\"text-align: right;\">\n",
       "      <th></th>\n",
       "      <th>Pred</th>\n",
       "      <th>Actual</th>\n",
       "    </tr>\n",
       "  </thead>\n",
       "  <tbody>\n",
       "    <tr>\n",
       "      <th>0</th>\n",
       "      <td>0.277550</td>\n",
       "      <td>0.282486</td>\n",
       "    </tr>\n",
       "    <tr>\n",
       "      <th>1</th>\n",
       "      <td>0.970807</td>\n",
       "      <td>0.971751</td>\n",
       "    </tr>\n",
       "    <tr>\n",
       "      <th>2</th>\n",
       "      <td>0.143489</td>\n",
       "      <td>0.135593</td>\n",
       "    </tr>\n",
       "    <tr>\n",
       "      <th>3</th>\n",
       "      <td>0.625213</td>\n",
       "      <td>0.638418</td>\n",
       "    </tr>\n",
       "    <tr>\n",
       "      <th>4</th>\n",
       "      <td>0.092511</td>\n",
       "      <td>0.084746</td>\n",
       "    </tr>\n",
       "    <tr>\n",
       "      <th>5</th>\n",
       "      <td>0.008388</td>\n",
       "      <td>0.005650</td>\n",
       "    </tr>\n",
       "    <tr>\n",
       "      <th>6</th>\n",
       "      <td>0.862940</td>\n",
       "      <td>0.864407</td>\n",
       "    </tr>\n",
       "    <tr>\n",
       "      <th>7</th>\n",
       "      <td>0.627233</td>\n",
       "      <td>0.683616</td>\n",
       "    </tr>\n",
       "    <tr>\n",
       "      <th>8</th>\n",
       "      <td>0.755046</td>\n",
       "      <td>0.717514</td>\n",
       "    </tr>\n",
       "    <tr>\n",
       "      <th>9</th>\n",
       "      <td>0.237638</td>\n",
       "      <td>0.259887</td>\n",
       "    </tr>\n",
       "    <tr>\n",
       "      <th>10</th>\n",
       "      <td>0.096189</td>\n",
       "      <td>0.096045</td>\n",
       "    </tr>\n",
       "    <tr>\n",
       "      <th>11</th>\n",
       "      <td>0.811765</td>\n",
       "      <td>0.802260</td>\n",
       "    </tr>\n",
       "    <tr>\n",
       "      <th>12</th>\n",
       "      <td>0.115322</td>\n",
       "      <td>0.107345</td>\n",
       "    </tr>\n",
       "    <tr>\n",
       "      <th>13</th>\n",
       "      <td>0.222665</td>\n",
       "      <td>0.225989</td>\n",
       "    </tr>\n",
       "    <tr>\n",
       "      <th>14</th>\n",
       "      <td>0.172154</td>\n",
       "      <td>0.175141</td>\n",
       "    </tr>\n",
       "    <tr>\n",
       "      <th>15</th>\n",
       "      <td>0.328234</td>\n",
       "      <td>0.338983</td>\n",
       "    </tr>\n",
       "    <tr>\n",
       "      <th>16</th>\n",
       "      <td>0.988787</td>\n",
       "      <td>0.983051</td>\n",
       "    </tr>\n",
       "    <tr>\n",
       "      <th>17</th>\n",
       "      <td>0.227166</td>\n",
       "      <td>0.225989</td>\n",
       "    </tr>\n",
       "    <tr>\n",
       "      <th>18</th>\n",
       "      <td>0.314269</td>\n",
       "      <td>0.322034</td>\n",
       "    </tr>\n",
       "    <tr>\n",
       "      <th>19</th>\n",
       "      <td>0.332656</td>\n",
       "      <td>0.344633</td>\n",
       "    </tr>\n",
       "    <tr>\n",
       "      <th>20</th>\n",
       "      <td>0.623189</td>\n",
       "      <td>0.593220</td>\n",
       "    </tr>\n",
       "    <tr>\n",
       "      <th>21</th>\n",
       "      <td>0.411290</td>\n",
       "      <td>0.412429</td>\n",
       "    </tr>\n",
       "    <tr>\n",
       "      <th>22</th>\n",
       "      <td>0.136717</td>\n",
       "      <td>0.118644</td>\n",
       "    </tr>\n",
       "    <tr>\n",
       "      <th>23</th>\n",
       "      <td>0.010508</td>\n",
       "      <td>0.005650</td>\n",
       "    </tr>\n",
       "    <tr>\n",
       "      <th>24</th>\n",
       "      <td>0.115925</td>\n",
       "      <td>0.118644</td>\n",
       "    </tr>\n",
       "    <tr>\n",
       "      <th>25</th>\n",
       "      <td>0.197295</td>\n",
       "      <td>0.197740</td>\n",
       "    </tr>\n",
       "    <tr>\n",
       "      <th>26</th>\n",
       "      <td>0.690868</td>\n",
       "      <td>0.689266</td>\n",
       "    </tr>\n",
       "    <tr>\n",
       "      <th>27</th>\n",
       "      <td>0.790322</td>\n",
       "      <td>0.819209</td>\n",
       "    </tr>\n",
       "    <tr>\n",
       "      <th>28</th>\n",
       "      <td>-0.001206</td>\n",
       "      <td>0.005650</td>\n",
       "    </tr>\n",
       "  </tbody>\n",
       "</table>\n",
       "</div>"
      ],
      "text/plain": [
       "        Pred    Actual\n",
       "0   0.277550  0.282486\n",
       "1   0.970807  0.971751\n",
       "2   0.143489  0.135593\n",
       "3   0.625213  0.638418\n",
       "4   0.092511  0.084746\n",
       "5   0.008388  0.005650\n",
       "6   0.862940  0.864407\n",
       "7   0.627233  0.683616\n",
       "8   0.755046  0.717514\n",
       "9   0.237638  0.259887\n",
       "10  0.096189  0.096045\n",
       "11  0.811765  0.802260\n",
       "12  0.115322  0.107345\n",
       "13  0.222665  0.225989\n",
       "14  0.172154  0.175141\n",
       "15  0.328234  0.338983\n",
       "16  0.988787  0.983051\n",
       "17  0.227166  0.225989\n",
       "18  0.314269  0.322034\n",
       "19  0.332656  0.344633\n",
       "20  0.623189  0.593220\n",
       "21  0.411290  0.412429\n",
       "22  0.136717  0.118644\n",
       "23  0.010508  0.005650\n",
       "24  0.115925  0.118644\n",
       "25  0.197295  0.197740\n",
       "26  0.690868  0.689266\n",
       "27  0.790322  0.819209\n",
       "28 -0.001206  0.005650"
      ]
     },
     "execution_count": 7,
     "metadata": {},
     "output_type": "execute_result"
    }
   ],
   "source": [
    "yp=np.array(rbfp)\n",
    "yt=np.array(ytest)\n",
    "ac=(np.vstack((rbfp,ytest)).T)\n",
    "ac\n",
    "df1=pd.DataFrame(data=ac,columns=['Pred','Actual'])\n",
    "df1\n",
    "#CREATED A DATAFRAME THAT DISPLAYS PRED VS ACTUAL VALUES WE CAN SEE IT IS VERY CLOSE"
   ]
  },
  {
   "cell_type": "code",
   "execution_count": null,
   "metadata": {},
   "outputs": [],
   "source": []
  }
 ],
 "metadata": {
  "kernelspec": {
   "display_name": "Python 3 (ipykernel)",
   "language": "python",
   "name": "python3"
  },
  "language_info": {
   "codemirror_mode": {
    "name": "ipython",
    "version": 3
   },
   "file_extension": ".py",
   "mimetype": "text/x-python",
   "name": "python",
   "nbconvert_exporter": "python",
   "pygments_lexer": "ipython3",
   "version": "3.11.6"
  }
 },
 "nbformat": 4,
 "nbformat_minor": 4
}
